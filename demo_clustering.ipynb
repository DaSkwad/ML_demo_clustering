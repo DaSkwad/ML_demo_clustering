{
 "cells": [
  {
   "cell_type": "markdown",
   "id": "73079f69",
   "metadata": {},
   "source": [
    "![Iris](img/iris.jpeg)"
   ]
  }
 ],
 "metadata": {
  "kernelspec": {
   "display_name": ".venv",
   "language": "python",
   "name": "python3"
  },
  "language_info": {
   "name": "python",
   "version": "3.13.3"
  }
 },
 "nbformat": 4,
 "nbformat_minor": 5
}
